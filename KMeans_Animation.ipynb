{
  "nbformat": 4,
  "nbformat_minor": 0,
  "metadata": {
    "colab": {
      "provenance": [],
      "authorship_tag": "ABX9TyPJYZiH1+dgomy4/llRllCE",
      "include_colab_link": true
    },
    "kernelspec": {
      "name": "python3",
      "display_name": "Python 3"
    },
    "language_info": {
      "name": "python"
    }
  },
  "cells": [
    {
      "cell_type": "markdown",
      "metadata": {
        "id": "view-in-github",
        "colab_type": "text"
      },
      "source": [
        "<a href=\"https://colab.research.google.com/github/Mantis-Ryuji/Playground/blob/main/KMeans_Animation.ipynb\" target=\"_parent\"><img src=\"https://colab.research.google.com/assets/colab-badge.svg\" alt=\"Open In Colab\"/></a>"
      ]
    },
    {
      "cell_type": "code",
      "source": [
        "import numpy as np\n",
        "import matplotlib.pyplot as plt\n",
        "import matplotlib.cm as cm\n",
        "from matplotlib.animation import FuncAnimation\n",
        "from sklearn.datasets import make_moons\n",
        "from IPython.display import HTML"
      ],
      "metadata": {
        "id": "WotYlttBtzyk"
      },
      "execution_count": 1,
      "outputs": []
    },
    {
      "cell_type": "markdown",
      "source": [
        "### データ生成"
      ],
      "metadata": {
        "id": "acrPC47ht11W"
      }
    },
    {
      "cell_type": "code",
      "source": [
        "X, _ = make_moons(n_samples=500, noise=0.3)"
      ],
      "metadata": {
        "id": "qp4loVr4uFP9"
      },
      "execution_count": 2,
      "outputs": []
    },
    {
      "cell_type": "markdown",
      "source": [
        "### アニメーションとKmeansの作成"
      ],
      "metadata": {
        "id": "KEdcFZKyuR-n"
      }
    },
    {
      "cell_type": "code",
      "source": [
        "num_points = X.shape[0]\n",
        "num_clusters = 2\n",
        "data_points = X\n",
        "num_iterations = 10\n",
        "\n",
        "# 初期クラスタ中心\n",
        "np.random.seed(42)\n",
        "centroids = np.random.uniform(low=-3, high=5, size=(num_clusters, 2))\n",
        "centroid_history = [[] for _ in range(num_clusters)]\n",
        "\n",
        "fig, ax = plt.subplots(figsize=(8, 8))\n",
        "colors = cm.rainbow(np.linspace(0, 1, num_clusters))\n",
        "\n",
        "def init():\n",
        "    ax.set_title('K-Means Clustering', fontsize=15)\n",
        "    ax.set_facecolor('lightgrey')\n",
        "    ax.set_xticks([])\n",
        "    ax.set_yticks([])\n",
        "    return []\n",
        "\n",
        "def update(frame):\n",
        "    global centroids\n",
        "\n",
        "    distances = np.sqrt(np.sum((data_points - centroids[:, np.newaxis]) ** 2, axis=2))\n",
        "    labels = np.argmin(distances, axis=0)\n",
        "\n",
        "    new_centroids = np.copy(centroids)\n",
        "    for i in range(num_clusters):\n",
        "        if np.any(labels == i):\n",
        "            new_centroids[i] = np.mean(data_points[labels == i], axis=0)\n",
        "\n",
        "    centroids[:] = new_centroids\n",
        "\n",
        "    for i in range(num_clusters):\n",
        "        centroid_history[i].append(centroids[i].copy())\n",
        "\n",
        "    ax.cla()\n",
        "    for i in range(num_clusters):\n",
        "        cluster_points = data_points[labels == i]\n",
        "        ax.scatter(cluster_points[:, 0], cluster_points[:, 1], c=[colors[i]], label=f'Cluster {i}', alpha=0.6)\n",
        "\n",
        "        for point in cluster_points:\n",
        "            ax.plot([point[0], centroids[i, 0]], [point[1], centroids[i, 1]],\n",
        "                    c=colors[i], lw=1.2, alpha=0.4)\n",
        "\n",
        "        if len(centroid_history[i]) > 1:\n",
        "            traj = np.array(centroid_history[i])\n",
        "            ax.plot(traj[:, 0], traj[:, 1], '--', c='k', lw=2, zorder=10)\n",
        "\n",
        "    ax.scatter(centroids[:, 0], centroids[:, 1], c='black',\n",
        "               marker='x', s=500, linewidths=3, zorder=10)\n",
        "\n",
        "    ax.set_title(f'K-Means Clustering (Iteration {frame + 1}/{num_iterations})', fontsize=15)\n",
        "    ax.set_facecolor('lightgrey')\n",
        "    ax.set_xticks([])\n",
        "    ax.set_yticks([])\n",
        "    ax.legend()\n",
        "    return []\n",
        "\n",
        "ani = FuncAnimation(fig, update, frames=range(num_iterations), init_func=init, blit=False)\n",
        "plt.close(fig)"
      ],
      "metadata": {
        "id": "YvuMTGe6u5ZY"
      },
      "execution_count": 4,
      "outputs": []
    },
    {
      "cell_type": "markdown",
      "source": [
        "### KMean.gif が出力結果"
      ],
      "metadata": {
        "id": "H4el-W4c0ql8"
      }
    }
  ]
}